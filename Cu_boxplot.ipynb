{
 "cells": [
  {
   "cell_type": "markdown",
   "metadata": {},
   "source": [
    "# Boxplot"
   ]
  },
  {
   "cell_type": "code",
   "execution_count": 1,
   "metadata": {},
   "outputs": [],
   "source": [
    "import pandas as pd\n",
    "import matplotlib.pyplot as plt\n",
    "import numpy as np\n",
    "import glob\n",
    "import math as ma\n",
    "from sklearn import linear_model\n",
    "from sklearn.metrics import mean_squared_error, r2_score"
   ]
  },
  {
   "cell_type": "code",
   "execution_count": 2,
   "metadata": {},
   "outputs": [],
   "source": [
    "path = 'first'\n",
    "path2 = 'second'\n",
    "# path3 = 'third'\n",
    "first_experiment = glob.glob(path + \"/[c]*.csv\" )\n",
    "second_experiment = glob.glob(path2 + \"/[c]*.csv\" )\n",
    "# third_experiment = glob.glob(path3 + \"/[c]*.txt\" )\n",
    "\n",
    "concentraciones = []\n",
    "\n",
    "for item in first_experiment:\n",
    "      concentraciones.append(item[item.find(\"c\")+1:item.find(\".\")])\n"
   ]
  },
  {
   "cell_type": "code",
   "execution_count": 3,
   "metadata": {},
   "outputs": [
    {
     "name": "stdout",
     "output_type": "stream",
     "text": [
      "['second/c60.csv', 'second/c0.csv', 'second/c100.csv', 'second/c20.csv', 'second/c40.csv', 'second/c80.csv']\n",
      "['60', '0', '100', '20', '40', '80']\n"
     ]
    }
   ],
   "source": [
    "print(second_experiment)\n",
    "print(concentraciones)\n",
    "#11"
   ]
  },
  {
   "cell_type": "code",
   "execution_count": 4,
   "metadata": {},
   "outputs": [],
   "source": [
    "#first experiment\n",
    "lu= [pd.read_csv(filename, sep=\";\") for filename in first_experiment] \n",
    "\n",
    "\n",
    "#second experiment\n",
    "lu2= [pd.read_csv(filename, sep=\";\") for filename in second_experiment] \n",
    "\n",
    "\n",
    "# #third experiment\n",
    "# lu3= [pd.read_csv(filename, sep=\",\") for filename in third_experiment] \n"
   ]
  },
  {
   "cell_type": "code",
   "execution_count": 5,
   "metadata": {},
   "outputs": [
    {
     "name": "stdout",
     "output_type": "stream",
     "text": [
      "      Potential applied (V)    Time (s)  WE(1).Current (A)  \\\n",
      "0                 -0.018616    5.996270          -0.000041   \n",
      "1                 -0.016174    6.118340           0.000016   \n",
      "2                 -0.013733    6.240410           0.000056   \n",
      "3                 -0.011292    6.362480           0.000089   \n",
      "4                 -0.008850    6.484550           0.000116   \n",
      "...                     ...         ...                ...   \n",
      "5335              -0.030823  657.239718           0.000587   \n",
      "5336              -0.028381  657.361788           0.000608   \n",
      "5337              -0.025940  657.483858           0.000630   \n",
      "5338              -0.023499  657.605928           0.000652   \n",
      "5339              -0.021057  657.727998           0.000674   \n",
      "\n",
      "      WE(1).Potential (V)  Scan  Index        Q+        Q- Current range  \\\n",
      "0               -0.018420     1      1  0.033652 -0.040244          1 mA   \n",
      "1               -0.015930     1      2  0.033652 -0.040244          1 mA   \n",
      "2               -0.013483     1      3  0.033652 -0.040244          1 mA   \n",
      "3               -0.011090     1      4  0.033652 -0.040244          1 mA   \n",
      "4               -0.008652     1      5  0.033652 -0.040244          1 mA   \n",
      "...                   ...   ...    ...       ...       ...           ...   \n",
      "5335            -0.030563     5   5336  0.037330 -0.039428          1 mA   \n",
      "5336            -0.028165     5   5337  0.037330 -0.039428          1 mA   \n",
      "5337            -0.025720     5   5338  0.037330 -0.039428          1 mA   \n",
      "5338            -0.023239     5   5339  0.037330 -0.039428          1 mA   \n",
      "5339            -0.020831     5   5340  0.037330 -0.039428          1 mA   \n",
      "\n",
      "     Overload  \n",
      "0         NaN  \n",
      "1         NaN  \n",
      "2         NaN  \n",
      "3         NaN  \n",
      "4         NaN  \n",
      "...       ...  \n",
      "5335      NaN  \n",
      "5336      NaN  \n",
      "5337      NaN  \n",
      "5338      NaN  \n",
      "5339      NaN  \n",
      "\n",
      "[5340 rows x 10 columns]\n"
     ]
    }
   ],
   "source": [
    "print(lu2[0])"
   ]
  },
  {
   "cell_type": "markdown",
   "metadata": {},
   "source": [
    "# Primer experimento"
   ]
  },
  {
   "cell_type": "code",
   "execution_count": 6,
   "metadata": {},
   "outputs": [],
   "source": [
    "# Definir listas para los guardados de scan del primer experimento\n",
    "scan2 =[]\n",
    "scan3 = []\n",
    "scan4 = []\n",
    "scan5 = []\n",
    "maxScan2=[]\n",
    "maxScan3=[]\n",
    "maxScan4=[]\n",
    "maxScan5=[]\n"
   ]
  },
  {
   "cell_type": "code",
   "execution_count": 7,
   "metadata": {},
   "outputs": [],
   "source": [
    "# llenado de las listas de scan para el primer experimento\n",
    "\n",
    "for item in lu:\n",
    "    for n in range(2,6,1):\n",
    "        if n==2:\n",
    "            scan2.append(item[(item['Scan'] >= n) & (item['Scan'] <= n )])\n",
    "\n",
    "        if n==3:\n",
    "            scan3.append(item[(item['Scan'] >= n) & (item['Scan'] <= n )])\n",
    "\n",
    "        if n==4:\n",
    "            scan4.append(item[(item['Scan'] >= n) & (item['Scan'] <= n )])\n",
    "            \n",
    "        if n==5:\n",
    "            scan5.append(item[(item['Scan'] >= n) & (item['Scan'] <= n )])\n",
    "\n",
    "\n",
    "\n"
   ]
  },
  {
   "cell_type": "code",
   "execution_count": 8,
   "metadata": {},
   "outputs": [],
   "source": [
    "#para el primer dataset\n",
    "n=0\n",
    "for n in range(0,6,1):\n",
    "    maxScan2.append(scan2[n][\"WE(1).Current (A)\"].max())\n",
    "\n",
    "n=0\n",
    "for n in range(0,6,1):\n",
    "    maxScan3.append(scan3[n][\"WE(1).Current (A)\"].max())\n",
    "\n",
    "n=0\n",
    "for n in range(0,6,1):\n",
    "    maxScan4.append(scan4[n][\"WE(1).Current (A)\"].max())\n",
    "    \n",
    "n=0\n",
    "for n in range(0,6,1):\n",
    "    maxScan5.append(scan5[n][\"WE(1).Current (A)\"].max())"
   ]
  },
  {
   "cell_type": "code",
   "execution_count": 9,
   "metadata": {},
   "outputs": [
    {
     "name": "stdout",
     "output_type": "stream",
     "text": [
      "[0.001793212890625, 0.0014437866210937, 0.0021478271484375, 0.0015835571289062, 0.0016400146484375, 0.0019415283203125]\n"
     ]
    }
   ],
   "source": [
    "print(maxScan5)"
   ]
  },
  {
   "cell_type": "code",
   "execution_count": 10,
   "metadata": {},
   "outputs": [],
   "source": [
    "# creacion del dataframe\n",
    "df1= pd.DataFrame()"
   ]
  },
  {
   "cell_type": "code",
   "execution_count": 11,
   "metadata": {},
   "outputs": [],
   "source": [
    "df1[\"scan 2\"] = maxScan2[:]\n",
    "df1[\"scan 3\"] = maxScan3[:]\n",
    "df1[\"scan 4\"] = maxScan4[:]\n",
    "df1[\"scan 5\"] = maxScan5[:]"
   ]
  },
  {
   "cell_type": "code",
   "execution_count": 12,
   "metadata": {},
   "outputs": [
    {
     "data": {
      "text/html": [
       "<div>\n",
       "<style scoped>\n",
       "    .dataframe tbody tr th:only-of-type {\n",
       "        vertical-align: middle;\n",
       "    }\n",
       "\n",
       "    .dataframe tbody tr th {\n",
       "        vertical-align: top;\n",
       "    }\n",
       "\n",
       "    .dataframe thead th {\n",
       "        text-align: right;\n",
       "    }\n",
       "</style>\n",
       "<table border=\"1\" class=\"dataframe\">\n",
       "  <thead>\n",
       "    <tr style=\"text-align: right;\">\n",
       "      <th></th>\n",
       "      <th>scan 2</th>\n",
       "      <th>scan 3</th>\n",
       "      <th>scan 4</th>\n",
       "      <th>scan 5</th>\n",
       "    </tr>\n",
       "  </thead>\n",
       "  <tbody>\n",
       "    <tr>\n",
       "      <th>0</th>\n",
       "      <td>0.001796</td>\n",
       "      <td>0.001796</td>\n",
       "      <td>0.001793</td>\n",
       "      <td>0.001793</td>\n",
       "    </tr>\n",
       "    <tr>\n",
       "      <th>1</th>\n",
       "      <td>0.001445</td>\n",
       "      <td>0.001445</td>\n",
       "      <td>0.001444</td>\n",
       "      <td>0.001444</td>\n",
       "    </tr>\n",
       "    <tr>\n",
       "      <th>2</th>\n",
       "      <td>0.002154</td>\n",
       "      <td>0.002150</td>\n",
       "      <td>0.002151</td>\n",
       "      <td>0.002148</td>\n",
       "    </tr>\n",
       "    <tr>\n",
       "      <th>3</th>\n",
       "      <td>0.001557</td>\n",
       "      <td>0.001573</td>\n",
       "      <td>0.001581</td>\n",
       "      <td>0.001584</td>\n",
       "    </tr>\n",
       "    <tr>\n",
       "      <th>4</th>\n",
       "      <td>0.001628</td>\n",
       "      <td>0.001623</td>\n",
       "      <td>0.001628</td>\n",
       "      <td>0.001640</td>\n",
       "    </tr>\n",
       "    <tr>\n",
       "      <th>5</th>\n",
       "      <td>0.001933</td>\n",
       "      <td>0.001932</td>\n",
       "      <td>0.001938</td>\n",
       "      <td>0.001942</td>\n",
       "    </tr>\n",
       "  </tbody>\n",
       "</table>\n",
       "</div>"
      ],
      "text/plain": [
       "     scan 2    scan 3    scan 4    scan 5\n",
       "0  0.001796  0.001796  0.001793  0.001793\n",
       "1  0.001445  0.001445  0.001444  0.001444\n",
       "2  0.002154  0.002150  0.002151  0.002148\n",
       "3  0.001557  0.001573  0.001581  0.001584\n",
       "4  0.001628  0.001623  0.001628  0.001640\n",
       "5  0.001933  0.001932  0.001938  0.001942"
      ]
     },
     "execution_count": 12,
     "metadata": {},
     "output_type": "execute_result"
    }
   ],
   "source": [
    "df1"
   ]
  },
  {
   "cell_type": "markdown",
   "metadata": {},
   "source": [
    "# Segundo experimento"
   ]
  },
  {
   "cell_type": "code",
   "execution_count": 13,
   "metadata": {},
   "outputs": [],
   "source": [
    "scan22 =[]\n",
    "scan33 = []\n",
    "scan44 = []\n",
    "scan55 = []\n",
    "maxScan22=[]\n",
    "maxScan33=[]\n",
    "maxScan44=[]\n",
    "maxScan55=[]"
   ]
  },
  {
   "cell_type": "code",
   "execution_count": 14,
   "metadata": {},
   "outputs": [],
   "source": [
    "# llenado de las listas de scan para el segundo experimento\n",
    "n=0\n",
    "for item in lu2:\n",
    "    for n in range(2,6,1):\n",
    "        if n==2:\n",
    "            scan22.append(item[(item['Scan'] >= n) & (item['Scan'] <= n )])\n",
    "\n",
    "        if n==3:\n",
    "            scan33.append(item[(item['Scan'] >= n) & (item['Scan'] <= n )])\n",
    "\n",
    "        if n==4:\n",
    "            scan44.append(item[(item['Scan'] >= n) & (item['Scan'] <= n )])\n",
    "            \n",
    "        if n==5:\n",
    "            scan55.append(item[(item['Scan'] >= n) & (item['Scan'] <= n )])"
   ]
  },
  {
   "cell_type": "code",
   "execution_count": 15,
   "metadata": {},
   "outputs": [],
   "source": [
    "#valores maximos para el segundo experimento\n",
    "n=0\n",
    "for n in range(0,6,1):\n",
    "    maxScan22.append(scan22[n][\"WE(1).Current (A)\"].max())\n",
    "\n",
    "n=0\n",
    "for n in range(0,6,1):\n",
    "    maxScan33.append(scan33[n][\"WE(1).Current (A)\"].max())\n",
    "\n",
    "\n",
    "n=0\n",
    "for n in range(0,6,1):\n",
    "    maxScan44.append(scan44[n][\"WE(1).Current (A)\"].max())\n",
    "    \n",
    "n=0\n",
    "for n in range(0,6,1):\n",
    "    maxScan55.append(scan55[n][\"WE(1).Current (A)\"].max())"
   ]
  },
  {
   "cell_type": "code",
   "execution_count": 16,
   "metadata": {},
   "outputs": [],
   "source": [
    "# adicion de los datos al dataframe\n",
    "df1[\"scan 22\"] = maxScan22[:]\n",
    "df1[\"scan 33\"] = maxScan33[:]\n",
    "df1[\"scan 44\"] = maxScan44[:]\n",
    "df1[\"scan 55\"] = maxScan55[:]"
   ]
  },
  {
   "cell_type": "markdown",
   "metadata": {},
   "source": [
    "# Tercer Experimento"
   ]
  },
  {
   "cell_type": "code",
   "execution_count": null,
   "metadata": {},
   "outputs": [],
   "source": [
    "scan222 =[]\n",
    "scan333 = []\n",
    "scan444 = []\n",
    "scan555 = []\n",
    "maxScan222=[]\n",
    "maxScan333=[]\n",
    "maxScan444=[]\n",
    "maxScan555=[]"
   ]
  },
  {
   "cell_type": "code",
   "execution_count": null,
   "metadata": {},
   "outputs": [],
   "source": [
    "# llenado de las listas de scan para el tercer experimento\n",
    "n=0\n",
    "for item in lu3:\n",
    "    for n in range(2,6,1):\n",
    "        if n==2:\n",
    "            scan222.append(item[(item['Scan'] >= n) & (item['Scan'] <= n )])\n",
    "\n",
    "        if n==3:\n",
    "            scan333.append(item[(item['Scan'] >= n) & (item['Scan'] <= n )])\n",
    "\n",
    "        if n==4:\n",
    "            scan444.append(item[(item['Scan'] >= n) & (item['Scan'] <= n )])\n",
    "            \n",
    "        if n==5:\n",
    "            scan555.append(item[(item['Scan'] >= n) & (item['Scan'] <= n )])"
   ]
  },
  {
   "cell_type": "code",
   "execution_count": null,
   "metadata": {},
   "outputs": [],
   "source": [
    "#valores maximos para el segundo experimento\n",
    "n=0\n",
    "for n in range(0,11,1):\n",
    "    maxScan222.append(scan222[n][\"WE(1).Current (A)\"].max())\n",
    "\n",
    "n=0\n",
    "for n in range(0,11,1):\n",
    "    maxScan333.append(scan333[n][\"WE(1).Current (A)\"].max())\n",
    "\n",
    "n=0\n",
    "for n in range(0,11,1):\n",
    "    maxScan444.append(scan444[n][\"WE(1).Current (A)\"].max())\n",
    "\n",
    "n=0\n",
    "for n in range(0,11,1):\n",
    "    maxScan555.append(scan555[n][\"WE(1).Current (A)\"].max())"
   ]
  },
  {
   "cell_type": "code",
   "execution_count": null,
   "metadata": {},
   "outputs": [],
   "source": [
    "# adicion de los datos al dataframe\n",
    "df1[\"scan 222\"] = maxScan222[:]\n",
    "df1[\"scan 333\"] = maxScan333[:]\n",
    "df1[\"scan 444\"] = maxScan444[:]\n",
    "df1[\"scan 555\"] = maxScan555[:]"
   ]
  },
  {
   "cell_type": "markdown",
   "metadata": {},
   "source": [
    "# Adición de la columna de concentraciones"
   ]
  },
  {
   "cell_type": "code",
   "execution_count": 17,
   "metadata": {},
   "outputs": [
    {
     "data": {
      "text/html": [
       "<div>\n",
       "<style scoped>\n",
       "    .dataframe tbody tr th:only-of-type {\n",
       "        vertical-align: middle;\n",
       "    }\n",
       "\n",
       "    .dataframe tbody tr th {\n",
       "        vertical-align: top;\n",
       "    }\n",
       "\n",
       "    .dataframe thead th {\n",
       "        text-align: right;\n",
       "    }\n",
       "</style>\n",
       "<table border=\"1\" class=\"dataframe\">\n",
       "  <thead>\n",
       "    <tr style=\"text-align: right;\">\n",
       "      <th></th>\n",
       "      <th>scan 2</th>\n",
       "      <th>scan 3</th>\n",
       "      <th>scan 4</th>\n",
       "      <th>scan 5</th>\n",
       "      <th>scan 22</th>\n",
       "      <th>scan 33</th>\n",
       "      <th>scan 44</th>\n",
       "      <th>scan 55</th>\n",
       "    </tr>\n",
       "  </thead>\n",
       "  <tbody>\n",
       "    <tr>\n",
       "      <th>0</th>\n",
       "      <td>0.001796</td>\n",
       "      <td>0.001796</td>\n",
       "      <td>0.001793</td>\n",
       "      <td>0.001793</td>\n",
       "      <td>0.001292</td>\n",
       "      <td>0.001289</td>\n",
       "      <td>0.001286</td>\n",
       "      <td>0.001284</td>\n",
       "    </tr>\n",
       "    <tr>\n",
       "      <th>1</th>\n",
       "      <td>0.001445</td>\n",
       "      <td>0.001445</td>\n",
       "      <td>0.001444</td>\n",
       "      <td>0.001444</td>\n",
       "      <td>0.001161</td>\n",
       "      <td>0.001161</td>\n",
       "      <td>0.001164</td>\n",
       "      <td>0.001172</td>\n",
       "    </tr>\n",
       "    <tr>\n",
       "      <th>2</th>\n",
       "      <td>0.002154</td>\n",
       "      <td>0.002150</td>\n",
       "      <td>0.002151</td>\n",
       "      <td>0.002148</td>\n",
       "      <td>0.001599</td>\n",
       "      <td>0.001596</td>\n",
       "      <td>0.001592</td>\n",
       "      <td>0.001591</td>\n",
       "    </tr>\n",
       "    <tr>\n",
       "      <th>3</th>\n",
       "      <td>0.001557</td>\n",
       "      <td>0.001573</td>\n",
       "      <td>0.001581</td>\n",
       "      <td>0.001584</td>\n",
       "      <td>0.001188</td>\n",
       "      <td>0.001188</td>\n",
       "      <td>0.001187</td>\n",
       "      <td>0.001186</td>\n",
       "    </tr>\n",
       "    <tr>\n",
       "      <th>4</th>\n",
       "      <td>0.001628</td>\n",
       "      <td>0.001623</td>\n",
       "      <td>0.001628</td>\n",
       "      <td>0.001640</td>\n",
       "      <td>0.001251</td>\n",
       "      <td>0.001259</td>\n",
       "      <td>0.001264</td>\n",
       "      <td>0.001267</td>\n",
       "    </tr>\n",
       "    <tr>\n",
       "      <th>5</th>\n",
       "      <td>0.001933</td>\n",
       "      <td>0.001932</td>\n",
       "      <td>0.001938</td>\n",
       "      <td>0.001942</td>\n",
       "      <td>0.001456</td>\n",
       "      <td>0.001469</td>\n",
       "      <td>0.001476</td>\n",
       "      <td>0.001481</td>\n",
       "    </tr>\n",
       "  </tbody>\n",
       "</table>\n",
       "</div>"
      ],
      "text/plain": [
       "     scan 2    scan 3    scan 4    scan 5   scan 22   scan 33   scan 44  \\\n",
       "0  0.001796  0.001796  0.001793  0.001793  0.001292  0.001289  0.001286   \n",
       "1  0.001445  0.001445  0.001444  0.001444  0.001161  0.001161  0.001164   \n",
       "2  0.002154  0.002150  0.002151  0.002148  0.001599  0.001596  0.001592   \n",
       "3  0.001557  0.001573  0.001581  0.001584  0.001188  0.001188  0.001187   \n",
       "4  0.001628  0.001623  0.001628  0.001640  0.001251  0.001259  0.001264   \n",
       "5  0.001933  0.001932  0.001938  0.001942  0.001456  0.001469  0.001476   \n",
       "\n",
       "    scan 55  \n",
       "0  0.001284  \n",
       "1  0.001172  \n",
       "2  0.001591  \n",
       "3  0.001186  \n",
       "4  0.001267  \n",
       "5  0.001481  "
      ]
     },
     "execution_count": 17,
     "metadata": {},
     "output_type": "execute_result"
    }
   ],
   "source": [
    "df1"
   ]
  },
  {
   "cell_type": "code",
   "execution_count": 18,
   "metadata": {},
   "outputs": [],
   "source": [
    "df1[\"[M]\"]=concentraciones"
   ]
  },
  {
   "cell_type": "code",
   "execution_count": 19,
   "metadata": {},
   "outputs": [
    {
     "data": {
      "text/html": [
       "<div>\n",
       "<style scoped>\n",
       "    .dataframe tbody tr th:only-of-type {\n",
       "        vertical-align: middle;\n",
       "    }\n",
       "\n",
       "    .dataframe tbody tr th {\n",
       "        vertical-align: top;\n",
       "    }\n",
       "\n",
       "    .dataframe thead th {\n",
       "        text-align: right;\n",
       "    }\n",
       "</style>\n",
       "<table border=\"1\" class=\"dataframe\">\n",
       "  <thead>\n",
       "    <tr style=\"text-align: right;\">\n",
       "      <th></th>\n",
       "      <th>scan 2</th>\n",
       "      <th>scan 3</th>\n",
       "      <th>scan 4</th>\n",
       "      <th>scan 5</th>\n",
       "      <th>scan 22</th>\n",
       "      <th>scan 33</th>\n",
       "      <th>scan 44</th>\n",
       "      <th>scan 55</th>\n",
       "      <th>[M]</th>\n",
       "    </tr>\n",
       "  </thead>\n",
       "  <tbody>\n",
       "    <tr>\n",
       "      <th>0</th>\n",
       "      <td>0.001796</td>\n",
       "      <td>0.001796</td>\n",
       "      <td>0.001793</td>\n",
       "      <td>0.001793</td>\n",
       "      <td>0.001292</td>\n",
       "      <td>0.001289</td>\n",
       "      <td>0.001286</td>\n",
       "      <td>0.001284</td>\n",
       "      <td>60</td>\n",
       "    </tr>\n",
       "    <tr>\n",
       "      <th>1</th>\n",
       "      <td>0.001445</td>\n",
       "      <td>0.001445</td>\n",
       "      <td>0.001444</td>\n",
       "      <td>0.001444</td>\n",
       "      <td>0.001161</td>\n",
       "      <td>0.001161</td>\n",
       "      <td>0.001164</td>\n",
       "      <td>0.001172</td>\n",
       "      <td>0</td>\n",
       "    </tr>\n",
       "    <tr>\n",
       "      <th>2</th>\n",
       "      <td>0.002154</td>\n",
       "      <td>0.002150</td>\n",
       "      <td>0.002151</td>\n",
       "      <td>0.002148</td>\n",
       "      <td>0.001599</td>\n",
       "      <td>0.001596</td>\n",
       "      <td>0.001592</td>\n",
       "      <td>0.001591</td>\n",
       "      <td>100</td>\n",
       "    </tr>\n",
       "    <tr>\n",
       "      <th>3</th>\n",
       "      <td>0.001557</td>\n",
       "      <td>0.001573</td>\n",
       "      <td>0.001581</td>\n",
       "      <td>0.001584</td>\n",
       "      <td>0.001188</td>\n",
       "      <td>0.001188</td>\n",
       "      <td>0.001187</td>\n",
       "      <td>0.001186</td>\n",
       "      <td>20</td>\n",
       "    </tr>\n",
       "    <tr>\n",
       "      <th>4</th>\n",
       "      <td>0.001628</td>\n",
       "      <td>0.001623</td>\n",
       "      <td>0.001628</td>\n",
       "      <td>0.001640</td>\n",
       "      <td>0.001251</td>\n",
       "      <td>0.001259</td>\n",
       "      <td>0.001264</td>\n",
       "      <td>0.001267</td>\n",
       "      <td>40</td>\n",
       "    </tr>\n",
       "    <tr>\n",
       "      <th>5</th>\n",
       "      <td>0.001933</td>\n",
       "      <td>0.001932</td>\n",
       "      <td>0.001938</td>\n",
       "      <td>0.001942</td>\n",
       "      <td>0.001456</td>\n",
       "      <td>0.001469</td>\n",
       "      <td>0.001476</td>\n",
       "      <td>0.001481</td>\n",
       "      <td>80</td>\n",
       "    </tr>\n",
       "  </tbody>\n",
       "</table>\n",
       "</div>"
      ],
      "text/plain": [
       "     scan 2    scan 3    scan 4    scan 5   scan 22   scan 33   scan 44  \\\n",
       "0  0.001796  0.001796  0.001793  0.001793  0.001292  0.001289  0.001286   \n",
       "1  0.001445  0.001445  0.001444  0.001444  0.001161  0.001161  0.001164   \n",
       "2  0.002154  0.002150  0.002151  0.002148  0.001599  0.001596  0.001592   \n",
       "3  0.001557  0.001573  0.001581  0.001584  0.001188  0.001188  0.001187   \n",
       "4  0.001628  0.001623  0.001628  0.001640  0.001251  0.001259  0.001264   \n",
       "5  0.001933  0.001932  0.001938  0.001942  0.001456  0.001469  0.001476   \n",
       "\n",
       "    scan 55  [M]  \n",
       "0  0.001284   60  \n",
       "1  0.001172    0  \n",
       "2  0.001591  100  \n",
       "3  0.001186   20  \n",
       "4  0.001267   40  \n",
       "5  0.001481   80  "
      ]
     },
     "execution_count": 19,
     "metadata": {},
     "output_type": "execute_result"
    }
   ],
   "source": [
    "df1"
   ]
  },
  {
   "cell_type": "code",
   "execution_count": 20,
   "metadata": {},
   "outputs": [
    {
     "name": "stdout",
     "output_type": "stream",
     "text": [
      "['60', '0', '100', '20', '40', '80']\n"
     ]
    }
   ],
   "source": [
    "print(concentraciones)"
   ]
  },
  {
   "cell_type": "markdown",
   "metadata": {},
   "source": [
    "# Boxplot"
   ]
  },
  {
   "cell_type": "code",
   "execution_count": 21,
   "metadata": {},
   "outputs": [],
   "source": [
    "data1= df1.iloc[0,0:8] # 60\n",
    "data2= df1.iloc[1,0:8] #0\n",
    "data3= df1.iloc[2,0:8] #100\n",
    "data4= df1.iloc[3,0:8] #20\n",
    "data5= df1.iloc[4,0:8] #40\n",
    "data6= df1.iloc[5,0:8] #80\n"
   ]
  },
  {
   "cell_type": "code",
   "execution_count": 22,
   "metadata": {},
   "outputs": [],
   "source": [
    "data=[data2,data4,data5,data1,data6,data3]"
   ]
  },
  {
   "cell_type": "code",
   "execution_count": 23,
   "metadata": {},
   "outputs": [
    {
     "name": "stdout",
     "output_type": "stream",
     "text": [
      "scan 2     0.001445\n",
      "scan 3     0.001445\n",
      "scan 4     0.001444\n",
      "scan 5     0.001444\n",
      "scan 22    0.001161\n",
      "scan 33    0.001161\n",
      "scan 44    0.001164\n",
      "scan 55    0.001172\n",
      "Name: 1, dtype: object\n"
     ]
    }
   ],
   "source": [
    "print(data[0])"
   ]
  },
  {
   "cell_type": "code",
   "execution_count": 24,
   "metadata": {},
   "outputs": [
    {
     "data": {
      "image/png": "[encoded data removed]",
      "text/plain": [
       "<Figure size 1008x360 with 1 Axes>"
      ]
     },
     "metadata": {
      "needs_background": "light"
     },
     "output_type": "display_data"
    }
   ],
   "source": [
    "fig, ax = plt.subplots()  # con esto puedo hacer varias charts en un figure\n",
    "fig.set_size_inches(14, 5)  # defino el tamaño de la grafica\n",
    "plt.rc('legend', fontsize='small') # el tamaño de la leyenda\n",
    "plt.boxplot(data,labels=['0','20','40','60','80','100'],showmeans=True)\n",
    "plt.ylabel(\"Corriente (A)\")\n",
    "plt.xlabel(\"Concentración ($\\mu M$)\")\n",
    "plt.title(\"Diagrama de cajas para electrodo de Cu\")\n",
    "plt.savefig(\"Cu_boxplot.png\",dpi=300)\n",
    "plt.show()\n"
   ]
  },
  {
   "cell_type": "code",
   "execution_count": 25,
   "metadata": {},
   "outputs": [],
   "source": [
    "df1.to_csv('boxplot.csv')"
   ]
  }
 ],
 "metadata": {
  "kernelspec": {
   "display_name": "Python 3.10.4 64-bit",
   "language": "python",
   "name": "python3"
  },
  "language_info": {
   "codemirror_mode": {
    "name": "ipython",
    "version": 3
   },
   "file_extension": ".py",
   "mimetype": "text/x-python",
   "name": "python",
   "nbconvert_exporter": "python",
   "pygments_lexer": "ipython3",
   "version": "3.10.6"
  },
  "orig_nbformat": 4,
  "vscode": {
   "interpreter": {
    "hash": "916dbcbb3f70747c44a77c7bcd40155683ae19c65e1c03b4aa3499c5328201f1"
   }
  }
 },
 "nbformat": 4,
 "nbformat_minor": 2
}
