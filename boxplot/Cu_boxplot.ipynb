{
 "cells": [
  {
   "cell_type": "markdown",
   "metadata": {},
   "source": [
    "# Creation of boxplots from the experimental data "
   ]
  },
  {
   "cell_type": "markdown",
   "metadata": {},
   "source": [
    "Import the necessary packages"
   ]
  },
  {
   "cell_type": "code",
   "execution_count": 1,
   "metadata": {},
   "outputs": [],
   "source": [
    "import pandas as pd # used to manipulate and create dataframes\n",
    "import matplotlib.pyplot as plt #used to make plots and visualizations\n",
    "import glob # used to search for the name of the files\n"
   ]
  },
  {
   "cell_type": "markdown",
   "metadata": {},
   "source": [
    "## Data ingestion"
   ]
  },
  {
   "cell_type": "code",
   "execution_count": 4,
   "metadata": {},
   "outputs": [
    {
     "name": "stdout",
     "output_type": "stream",
     "text": [
      "['first/c0.csv', 'first/c20.csv', 'first/c40.csv', 'first/c60.csv', 'first/c80.csv', 'first/c100.csv']\n",
      "['0', '20', '40', '60', '80', '100']\n"
     ]
    }
   ],
   "source": [
    "#We define the name of the folders where the data is\n",
    "path = 'first'\n",
    "path2 = 'second'\n",
    "\n",
    "#We save the name of the files in our variable n_experiment and define the patter for glob to search \n",
    "first_experiment = glob.glob(path + \"/[c]*.csv\" )\n",
    "second_experiment = glob.glob(path2 + \"/[c]*.csv\" )\n",
    "\n",
    "\n",
    "concentraciones = []\n",
    "\n",
    "# here we extract the concentrations defining the pattern to only extract the number \n",
    "for item in first_experiment:\n",
    "      concentraciones.append(item[item.find(\"c\")+1:item.find(\".\")])\n",
    "\n",
    "print(first_experiment)\n",
    "print(concentraciones)"
   ]
  },
  {
   "cell_type": "code",
   "execution_count": 5,
   "metadata": {},
   "outputs": [],
   "source": [
    "#We read each csv and store them in an array\n",
    "\n",
    "#first experiment\n",
    "lu= [pd.read_csv(filename, sep=\";\") for filename in first_experiment] \n",
    "\n",
    "\n",
    "#second experiment\n",
    "lu2= [pd.read_csv(filename, sep=\";\") for filename in second_experiment] \n",
    "\n"
   ]
  },
  {
   "cell_type": "markdown",
   "metadata": {},
   "source": [
    "# First experiment"
   ]
  },
  {
   "cell_type": "code",
   "execution_count": 9,
   "metadata": {},
   "outputs": [],
   "source": [
    "# We define lists to save the scans from the first experiment\n",
    "scan2 =[]\n",
    "scan3 = []\n",
    "scan4 = []\n",
    "scan5 = []\n",
    "\n",
    "# for the max current value\n",
    "maxScan2=[]\n",
    "maxScan3=[]\n",
    "maxScan4=[]\n",
    "maxScan5=[]\n"
   ]
  },
  {
   "cell_type": "markdown",
   "metadata": {},
   "source": [
    "We have two experiments. Each experiment has a range of concentrations from 0 to 100 (0, 20, 40, 60, 80, 100), and each has five scans. To measure the precision, we need to group each scan for each concentration merging in experiments."
   ]
  },
  {
   "cell_type": "code",
   "execution_count": 10,
   "metadata": {},
   "outputs": [],
   "source": [
    "# Here we separate the data by scan \n",
    "for item in lu:\n",
    "    for n in range(2,6,1):\n",
    "        if n==2:\n",
    "            scan2.append(item[(item['Scan'] >= n) & (item['Scan'] <= n )])\n",
    "\n",
    "        if n==3:\n",
    "            scan3.append(item[(item['Scan'] >= n) & (item['Scan'] <= n )])\n",
    "\n",
    "        if n==4:\n",
    "            scan4.append(item[(item['Scan'] >= n) & (item['Scan'] <= n )])\n",
    "            \n",
    "        if n==5:\n",
    "            scan5.append(item[(item['Scan'] >= n) & (item['Scan'] <= n )])\n",
    "\n",
    "\n",
    "\n"
   ]
  },
  {
   "cell_type": "code",
   "execution_count": 22,
   "metadata": {},
   "outputs": [
    {
     "name": "stdout",
     "output_type": "stream",
     "text": [
      "<class 'pandas.core.frame.DataFrame'>\n",
      "['Potential applied (V)' 'Time (s)' 'WE(1).Current (A)'\n",
      " 'WE(1).Potential (V)' 'Scan' 'Index' 'Q+' 'Q-' 'Current range' 'Overload']\n"
     ]
    }
   ],
   "source": [
    "#Here whe see the column names from our dataframes\n",
    "print(scan5[1].columns.values)"
   ]
  },
  {
   "cell_type": "markdown",
   "metadata": {},
   "source": [
    "We are analyzing data from electrochemical sensors, so we only care for the maximum value of the current, this value is in the 'WE(1).Current (A)' field."
   ]
  },
  {
   "cell_type": "code",
   "execution_count": 23,
   "metadata": {},
   "outputs": [],
   "source": [
    "#Extract maximum value for each concentration and in each scan\n",
    "n=0\n",
    "for n in range(0,6,1):\n",
    "    maxScan2.append(scan2[n][\"WE(1).Current (A)\"].max())\n",
    "\n",
    "n=0\n",
    "for n in range(0,6,1):\n",
    "    maxScan3.append(scan3[n][\"WE(1).Current (A)\"].max())\n",
    "\n",
    "n=0\n",
    "for n in range(0,6,1):\n",
    "    maxScan4.append(scan4[n][\"WE(1).Current (A)\"].max())\n",
    "    \n",
    "n=0\n",
    "for n in range(0,6,1):\n",
    "    maxScan5.append(scan5[n][\"WE(1).Current (A)\"].max())"
   ]
  },
  {
   "cell_type": "code",
   "execution_count": 24,
   "metadata": {},
   "outputs": [
    {
     "name": "stdout",
     "output_type": "stream",
     "text": [
      "[0.0014437866210937, 0.0015835571289062, 0.0016400146484375, 0.001793212890625, 0.0019415283203125, 0.0021478271484375]\n"
     ]
    }
   ],
   "source": [
    "print(maxScan5)"
   ]
  },
  {
   "cell_type": "code",
   "execution_count": 25,
   "metadata": {},
   "outputs": [],
   "source": [
    "# dataframe creation\n",
    "df1= pd.DataFrame()"
   ]
  },
  {
   "cell_type": "code",
   "execution_count": 26,
   "metadata": {},
   "outputs": [],
   "source": [
    "# we pass our filtered values to the dataframe\n",
    "df1[\"scan 2\"] = maxScan2[:]\n",
    "df1[\"scan 3\"] = maxScan3[:]\n",
    "df1[\"scan 4\"] = maxScan4[:]\n",
    "df1[\"scan 5\"] = maxScan5[:]"
   ]
  },
  {
   "cell_type": "code",
   "execution_count": 27,
   "metadata": {},
   "outputs": [
    {
     "data": {
      "text/html": [
       "<div>\n",
       "<style scoped>\n",
       "    .dataframe tbody tr th:only-of-type {\n",
       "        vertical-align: middle;\n",
       "    }\n",
       "\n",
       "    .dataframe tbody tr th {\n",
       "        vertical-align: top;\n",
       "    }\n",
       "\n",
       "    .dataframe thead th {\n",
       "        text-align: right;\n",
       "    }\n",
       "</style>\n",
       "<table border=\"1\" class=\"dataframe\">\n",
       "  <thead>\n",
       "    <tr style=\"text-align: right;\">\n",
       "      <th></th>\n",
       "      <th>scan 2</th>\n",
       "      <th>scan 3</th>\n",
       "      <th>scan 4</th>\n",
       "      <th>scan 5</th>\n",
       "    </tr>\n",
       "  </thead>\n",
       "  <tbody>\n",
       "    <tr>\n",
       "      <th>0</th>\n",
       "      <td>0.001445</td>\n",
       "      <td>0.001445</td>\n",
       "      <td>0.001444</td>\n",
       "      <td>0.001444</td>\n",
       "    </tr>\n",
       "    <tr>\n",
       "      <th>1</th>\n",
       "      <td>0.001557</td>\n",
       "      <td>0.001573</td>\n",
       "      <td>0.001581</td>\n",
       "      <td>0.001584</td>\n",
       "    </tr>\n",
       "    <tr>\n",
       "      <th>2</th>\n",
       "      <td>0.001628</td>\n",
       "      <td>0.001623</td>\n",
       "      <td>0.001628</td>\n",
       "      <td>0.001640</td>\n",
       "    </tr>\n",
       "    <tr>\n",
       "      <th>3</th>\n",
       "      <td>0.001796</td>\n",
       "      <td>0.001796</td>\n",
       "      <td>0.001793</td>\n",
       "      <td>0.001793</td>\n",
       "    </tr>\n",
       "    <tr>\n",
       "      <th>4</th>\n",
       "      <td>0.001933</td>\n",
       "      <td>0.001932</td>\n",
       "      <td>0.001938</td>\n",
       "      <td>0.001942</td>\n",
       "    </tr>\n",
       "    <tr>\n",
       "      <th>5</th>\n",
       "      <td>0.002154</td>\n",
       "      <td>0.002150</td>\n",
       "      <td>0.002151</td>\n",
       "      <td>0.002148</td>\n",
       "    </tr>\n",
       "  </tbody>\n",
       "</table>\n",
       "</div>"
      ],
      "text/plain": [
       "     scan 2    scan 3    scan 4    scan 5\n",
       "0  0.001445  0.001445  0.001444  0.001444\n",
       "1  0.001557  0.001573  0.001581  0.001584\n",
       "2  0.001628  0.001623  0.001628  0.001640\n",
       "3  0.001796  0.001796  0.001793  0.001793\n",
       "4  0.001933  0.001932  0.001938  0.001942\n",
       "5  0.002154  0.002150  0.002151  0.002148"
      ]
     },
     "execution_count": 27,
     "metadata": {},
     "output_type": "execute_result"
    }
   ],
   "source": [
    "df1"
   ]
  },
  {
   "cell_type": "markdown",
   "metadata": {},
   "source": [
    "# Second experiment"
   ]
  },
  {
   "cell_type": "markdown",
   "metadata": {},
   "source": [
    "Here we repeat the same steps for the second_experiment"
   ]
  },
  {
   "cell_type": "code",
   "execution_count": 28,
   "metadata": {},
   "outputs": [],
   "source": [
    "scan22 =[]\n",
    "scan33 = []\n",
    "scan44 = []\n",
    "scan55 = []\n",
    "maxScan22=[]\n",
    "maxScan33=[]\n",
    "maxScan44=[]\n",
    "maxScan55=[]"
   ]
  },
  {
   "cell_type": "code",
   "execution_count": 29,
   "metadata": {},
   "outputs": [],
   "source": [
    "n=0\n",
    "for item in lu2:\n",
    "    for n in range(2,6,1):\n",
    "        if n==2:\n",
    "            scan22.append(item[(item['Scan'] >= n) & (item['Scan'] <= n )])\n",
    "\n",
    "        if n==3:\n",
    "            scan33.append(item[(item['Scan'] >= n) & (item['Scan'] <= n )])\n",
    "\n",
    "        if n==4:\n",
    "            scan44.append(item[(item['Scan'] >= n) & (item['Scan'] <= n )])\n",
    "            \n",
    "        if n==5:\n",
    "            scan55.append(item[(item['Scan'] >= n) & (item['Scan'] <= n )])"
   ]
  },
  {
   "cell_type": "code",
   "execution_count": 30,
   "metadata": {},
   "outputs": [],
   "source": [
    "n=0\n",
    "for n in range(0,6,1):\n",
    "    maxScan22.append(scan22[n][\"WE(1).Current (A)\"].max())\n",
    "\n",
    "n=0\n",
    "for n in range(0,6,1):\n",
    "    maxScan33.append(scan33[n][\"WE(1).Current (A)\"].max())\n",
    "\n",
    "\n",
    "n=0\n",
    "for n in range(0,6,1):\n",
    "    maxScan44.append(scan44[n][\"WE(1).Current (A)\"].max())\n",
    "    \n",
    "n=0\n",
    "for n in range(0,6,1):\n",
    "    maxScan55.append(scan55[n][\"WE(1).Current (A)\"].max())"
   ]
  },
  {
   "cell_type": "code",
   "execution_count": 31,
   "metadata": {},
   "outputs": [],
   "source": [
    "df1[\"scan 22\"] = maxScan22[:]\n",
    "df1[\"scan 33\"] = maxScan33[:]\n",
    "df1[\"scan 44\"] = maxScan44[:]\n",
    "df1[\"scan 55\"] = maxScan55[:]"
   ]
  },
  {
   "cell_type": "markdown",
   "metadata": {},
   "source": [
    "# Adding concentration column "
   ]
  },
  {
   "cell_type": "code",
   "execution_count": 32,
   "metadata": {},
   "outputs": [],
   "source": [
    "# we add the concentrations to ouf dataframe\n",
    "df1[\"[M]\"]=concentraciones"
   ]
  },
  {
   "cell_type": "code",
   "execution_count": 33,
   "metadata": {},
   "outputs": [
    {
     "data": {
      "text/html": [
       "<div>\n",
       "<style scoped>\n",
       "    .dataframe tbody tr th:only-of-type {\n",
       "        vertical-align: middle;\n",
       "    }\n",
       "\n",
       "    .dataframe tbody tr th {\n",
       "        vertical-align: top;\n",
       "    }\n",
       "\n",
       "    .dataframe thead th {\n",
       "        text-align: right;\n",
       "    }\n",
       "</style>\n",
       "<table border=\"1\" class=\"dataframe\">\n",
       "  <thead>\n",
       "    <tr style=\"text-align: right;\">\n",
       "      <th></th>\n",
       "      <th>scan 2</th>\n",
       "      <th>scan 3</th>\n",
       "      <th>scan 4</th>\n",
       "      <th>scan 5</th>\n",
       "      <th>scan 22</th>\n",
       "      <th>scan 33</th>\n",
       "      <th>scan 44</th>\n",
       "      <th>scan 55</th>\n",
       "      <th>[M]</th>\n",
       "    </tr>\n",
       "  </thead>\n",
       "  <tbody>\n",
       "    <tr>\n",
       "      <th>0</th>\n",
       "      <td>0.001445</td>\n",
       "      <td>0.001445</td>\n",
       "      <td>0.001444</td>\n",
       "      <td>0.001444</td>\n",
       "      <td>0.001599</td>\n",
       "      <td>0.001596</td>\n",
       "      <td>0.001592</td>\n",
       "      <td>0.001591</td>\n",
       "      <td>0</td>\n",
       "    </tr>\n",
       "    <tr>\n",
       "      <th>1</th>\n",
       "      <td>0.001557</td>\n",
       "      <td>0.001573</td>\n",
       "      <td>0.001581</td>\n",
       "      <td>0.001584</td>\n",
       "      <td>0.001456</td>\n",
       "      <td>0.001469</td>\n",
       "      <td>0.001476</td>\n",
       "      <td>0.001481</td>\n",
       "      <td>20</td>\n",
       "    </tr>\n",
       "    <tr>\n",
       "      <th>2</th>\n",
       "      <td>0.001628</td>\n",
       "      <td>0.001623</td>\n",
       "      <td>0.001628</td>\n",
       "      <td>0.001640</td>\n",
       "      <td>0.001292</td>\n",
       "      <td>0.001289</td>\n",
       "      <td>0.001286</td>\n",
       "      <td>0.001284</td>\n",
       "      <td>40</td>\n",
       "    </tr>\n",
       "    <tr>\n",
       "      <th>3</th>\n",
       "      <td>0.001796</td>\n",
       "      <td>0.001796</td>\n",
       "      <td>0.001793</td>\n",
       "      <td>0.001793</td>\n",
       "      <td>0.001251</td>\n",
       "      <td>0.001259</td>\n",
       "      <td>0.001264</td>\n",
       "      <td>0.001267</td>\n",
       "      <td>60</td>\n",
       "    </tr>\n",
       "    <tr>\n",
       "      <th>4</th>\n",
       "      <td>0.001933</td>\n",
       "      <td>0.001932</td>\n",
       "      <td>0.001938</td>\n",
       "      <td>0.001942</td>\n",
       "      <td>0.001188</td>\n",
       "      <td>0.001188</td>\n",
       "      <td>0.001187</td>\n",
       "      <td>0.001186</td>\n",
       "      <td>80</td>\n",
       "    </tr>\n",
       "    <tr>\n",
       "      <th>5</th>\n",
       "      <td>0.002154</td>\n",
       "      <td>0.002150</td>\n",
       "      <td>0.002151</td>\n",
       "      <td>0.002148</td>\n",
       "      <td>0.001161</td>\n",
       "      <td>0.001161</td>\n",
       "      <td>0.001164</td>\n",
       "      <td>0.001172</td>\n",
       "      <td>100</td>\n",
       "    </tr>\n",
       "  </tbody>\n",
       "</table>\n",
       "</div>"
      ],
      "text/plain": [
       "     scan 2    scan 3    scan 4    scan 5   scan 22   scan 33   scan 44  \\\n",
       "0  0.001445  0.001445  0.001444  0.001444  0.001599  0.001596  0.001592   \n",
       "1  0.001557  0.001573  0.001581  0.001584  0.001456  0.001469  0.001476   \n",
       "2  0.001628  0.001623  0.001628  0.001640  0.001292  0.001289  0.001286   \n",
       "3  0.001796  0.001796  0.001793  0.001793  0.001251  0.001259  0.001264   \n",
       "4  0.001933  0.001932  0.001938  0.001942  0.001188  0.001188  0.001187   \n",
       "5  0.002154  0.002150  0.002151  0.002148  0.001161  0.001161  0.001164   \n",
       "\n",
       "    scan 55  [M]  \n",
       "0  0.001591    0  \n",
       "1  0.001481   20  \n",
       "2  0.001284   40  \n",
       "3  0.001267   60  \n",
       "4  0.001186   80  \n",
       "5  0.001172  100  "
      ]
     },
     "execution_count": 33,
     "metadata": {},
     "output_type": "execute_result"
    }
   ],
   "source": [
    "df1"
   ]
  },
  {
   "cell_type": "markdown",
   "metadata": {},
   "source": [
    "# Boxplot"
   ]
  },
  {
   "cell_type": "code",
   "execution_count": 34,
   "metadata": {},
   "outputs": [],
   "source": [
    "#How our data is not in order we save each record in a list to reorder the dataframe\n",
    "data1= df1.iloc[0,0:8] # 60\n",
    "data2= df1.iloc[1,0:8] #0\n",
    "data3= df1.iloc[2,0:8] #100\n",
    "data4= df1.iloc[3,0:8] #20\n",
    "data5= df1.iloc[4,0:8] #40\n",
    "data6= df1.iloc[5,0:8] #80\n"
   ]
  },
  {
   "cell_type": "code",
   "execution_count": 35,
   "metadata": {},
   "outputs": [],
   "source": [
    "data=[data2,data4,data5,data1,data6,data3]"
   ]
  },
  {
   "cell_type": "code",
   "execution_count": 39,
   "metadata": {},
   "outputs": [
    {
     "data": {
      "image/png": "[encoded data removed]",
      "text/plain": [
       "<Figure size 1008x360 with 1 Axes>"
      ]
     },
     "metadata": {
      "needs_background": "light"
     },
     "output_type": "display_data"
    }
   ],
   "source": [
    "#Here we plot the dataframe\n",
    "\n",
    "fig, ax = plt.subplots()  # used to make a figure\n",
    "fig.set_size_inches(14, 5)  # define the plot sieze\n",
    "plt.rc('legend', fontsize='small') # define the fontsize of the legend\n",
    "plt.boxplot(data,labels=['0','20','40','60','80','100'],showmeans=True)\n",
    "plt.ylabel(\"Corriente (A)\") \n",
    "plt.xlabel(\"Concentración ($\\mu M$)\")\n",
    "plt.title(\"Boxplot\", fontsize = 20) # define the title of the plot  \n",
    "plt.savefig(\"Cu_boxplot.png\",dpi=300) # save the figure as a png file\n",
    "plt.show()\n"
   ]
  },
  {
   "cell_type": "code",
   "execution_count": 37,
   "metadata": {},
   "outputs": [],
   "source": [
    "#Export the dataframe to a csv file\n",
    "df1.to_csv('boxplot.csv')"
   ]
  }
 ],
 "metadata": {
  "kernelspec": {
   "display_name": "Python 3.10.4 64-bit",
   "language": "python",
   "name": "python3"
  },
  "language_info": {
   "codemirror_mode": {
    "name": "ipython",
    "version": 3
   },
   "file_extension": ".py",
   "mimetype": "text/x-python",
   "name": "python",
   "nbconvert_exporter": "python",
   "pygments_lexer": "ipython3",
   "version": "3.10.6"
  },
  "orig_nbformat": 4,
  "vscode": {
   "interpreter": {
    "hash": "916dbcbb3f70747c44a77c7bcd40155683ae19c65e1c03b4aa3499c5328201f1"
   }
  }
 },
 "nbformat": 4,
 "nbformat_minor": 2
}
